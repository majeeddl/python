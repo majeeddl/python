{
 "cells": [
  {
   "cell_type": "markdown",
   "metadata": {},
   "source": [
    "## Machine Learning\n",
    "\n",
    "Machine Learning is making the computer learn from studying data and statistics.\n",
    "\n",
    "Machine Learning is a step into the direction of artificial intelligence (AI).\n",
    "\n",
    "Machine Learning is a program that analyses data and learns to predict the outcome.\n",
    "\n",
    "In Machine Learning it is common to work with very large data sets. In this tutorial we will try to make it as easy as possible to understand the different concepts of machine learning, and we will work with small easy-to-understand data sets."
   ]
  },
  {
   "cell_type": "code",
   "execution_count": null,
   "metadata": {},
   "outputs": [],
   "source": [
    "# Machine Learning - Mean Median Mode\n",
    "\n",
    "#Mean - The average value\n",
    "#Median - The mid point value\n",
    "#Mode - The most common value\n"
   ]
  },
  {
   "cell_type": "code",
   "execution_count": 7,
   "metadata": {},
   "outputs": [
    {
     "name": "stdout",
     "output_type": "stream",
     "text": [
      "89.76923076923077\n",
      "median is : 87.0\n",
      "mode is : ModeResult(mode=array([86]), count=array([3]))\n"
     ]
    }
   ],
   "source": [
    "import numpy\n",
    "from scipy import stats\n",
    "\n",
    "speed = [99, 86, 87, 88, 111, 86, 103, 87, 94, 78, 77, 85, 86]\n",
    "\n",
    "x = numpy.mean(speed)\n",
    "\n",
    "print(x)\n",
    "\n",
    "\n",
    "x = numpy.median(speed)\n",
    "\n",
    "print(\"median is :\" , x)\n",
    "\n",
    "x = stats.mode(speed)\n",
    "\n",
    "print(\"mode is :\", x)\n"
   ]
  },
  {
   "cell_type": "markdown",
   "metadata": {},
   "source": [
    "### Standard Deviation\n",
    "What is Standard Deviation?\n",
    "Standard deviation is a number that describes how spread out the values are.\n",
    "\n",
    "A low standard deviation means that most of the numbers are close to the mean (average) value.\n",
    "\n",
    "A high standard deviation means that the values are spread out over a wider range."
   ]
  },
  {
   "cell_type": "code",
   "execution_count": 8,
   "metadata": {},
   "outputs": [
    {
     "name": "stdout",
     "output_type": "stream",
     "text": [
      "0.9035079029052513\n"
     ]
    }
   ],
   "source": [
    "speed = [86, 87, 88, 86, 87, 85, 86]\n",
    "\n",
    "x = numpy.std(speed)\n",
    "\n",
    "print(x)\n"
   ]
  },
  {
   "cell_type": "markdown",
   "metadata": {},
   "source": [
    "### Variance\n",
    "Variance is another number that indicates how spread out the values are.\n",
    "\n",
    "In fact, if you take the square root of the variance, you get the standard deviation!\n",
    "\n",
    "Or the other way around, if you multiply the standard deviation by itself, you get the variance!"
   ]
  },
  {
   "cell_type": "code",
   "execution_count": 9,
   "metadata": {},
   "outputs": [
    {
     "name": "stdout",
     "output_type": "stream",
     "text": [
      "1432.2448979591834\n"
     ]
    }
   ],
   "source": [
    "speed = [32, 111, 138, 28, 59, 77, 97]\n",
    "\n",
    "x = numpy.var(speed)\n",
    "\n",
    "print(x)\n",
    "\n",
    "print()"
   ]
  },
  {
   "cell_type": "markdown",
   "metadata": {},
   "source": [
    "Symbols\n",
    "Standard Deviation is often represented by the symbol Sigma: σ\n",
    "\n",
    "Variance is often represented by the symbol Sigma Square: σ2"
   ]
  },
  {
   "cell_type": "markdown",
   "metadata": {},
   "source": [
    "### What are Percentiles?\n",
    "Percentiles are used in statistics to give you a number that describes the value that a given percent of the values are lower than.\n",
    "\n",
    "Example: Let's say we have an array of the ages of all the people that lives in a street.\n",
    "\n",
    "```python\n",
    "ages = [5,31,43,48,50,41,7,11,15,39,80,82,32,2,8,6,25,36,27,61,31]\n",
    "```\n",
    "\n",
    "What is the 75. percentile? The answer is 43, meaning that 75% of the people are 43 or younger."
   ]
  },
  {
   "cell_type": "code",
   "execution_count": 10,
   "metadata": {},
   "outputs": [
    {
     "name": "stdout",
     "output_type": "stream",
     "text": [
      "43.0\n"
     ]
    }
   ],
   "source": [
    "ages = [5, 31, 43, 48, 50, 41, 7, 11, 15, 39,\n",
    "        80, 82, 32, 2, 8, 6, 25, 36, 27, 61, 31]\n",
    "\n",
    "x = numpy.percentile(ages, 75)\n",
    "\n",
    "print(x)\n"
   ]
  }
 ],
 "metadata": {
  "interpreter": {
   "hash": "949777d72b0d2535278d3dc13498b2535136f6dfe0678499012e853ee9abcab1"
  },
  "kernelspec": {
   "display_name": "Python 3.9.9 64-bit",
   "language": "python",
   "name": "python3"
  },
  "language_info": {
   "codemirror_mode": {
    "name": "ipython",
    "version": 3
   },
   "file_extension": ".py",
   "mimetype": "text/x-python",
   "name": "python",
   "nbconvert_exporter": "python",
   "pygments_lexer": "ipython3",
   "version": "3.9.9"
  },
  "orig_nbformat": 4
 },
 "nbformat": 4,
 "nbformat_minor": 2
}
