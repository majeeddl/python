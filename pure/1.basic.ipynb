{
 "cells": [
  {
   "cell_type": "code",
   "execution_count": null,
   "id": "7b4477cc-cc1e-46a6-94f5-daa264ccb611",
   "metadata": {},
   "outputs": [],
   "source": [
    "#import dependencies\n",
    "import unittest"
   ]
  },
  {
   "cell_type": "code",
   "execution_count": null,
   "id": "91cb7e75-9e18-42cf-8e45-32c639ddc7dc",
   "metadata": {},
   "outputs": [],
   "source": [
    "#variables\n",
    "x = 5\n",
    "y = \"John\"\n",
    "print(x)\n",
    "print(y)"
   ]
  },
  {
   "cell_type": "code",
   "execution_count": null,
   "id": "d9f19006-87b0-485c-99c8-960c084be1e1",
   "metadata": {},
   "outputs": [],
   "source": [
    "#casting\n",
    "x = str(3)\n",
    "y = int(3)\n",
    "z = float(3)\n",
    "\n",
    "print(x)\n",
    "print(y)\n",
    "print(z)"
   ]
  },
  {
   "cell_type": "code",
   "execution_count": null,
   "id": "a808ce47-9660-4b39-9141-8dd71c40c9a3",
   "metadata": {},
   "outputs": [],
   "source": [
    "#Get the types\n",
    "x=5\n",
    "y=\"John\"\n",
    "print(type(x))\n",
    "print(type(y))"
   ]
  },
  {
   "cell_type": "code",
   "execution_count": null,
   "id": "ee1fda2f-cfd8-4062-909e-45ad9180106b",
   "metadata": {},
   "outputs": [],
   "source": [
    "#Many Values to Multiple Variables\n",
    "x, y, z = \"Orange\", \"Banana\", \"Cherry\"\n",
    "print(x)\n",
    "print(y)\n",
    "print(z)"
   ]
  },
  {
   "cell_type": "code",
   "execution_count": null,
   "id": "1ba8e216-3d8b-41f9-bcbb-f261b3201dec",
   "metadata": {},
   "outputs": [],
   "source": [
    "#Unpack a collection\n",
    "fruits = [\"apple\",\"banana\",\"cherry\"]\n",
    "x, y, z = fruits;\n",
    "print(x)\n",
    "print(y)\n",
    "print(z)"
   ]
  },
  {
   "cell_type": "code",
   "execution_count": null,
   "id": "5b1f18bd-82a9-4e2f-91ef-b3742a78b9b3",
   "metadata": {},
   "outputs": [],
   "source": [
    "#Global variables\n",
    "\n",
    "#The global Keyword\n",
    "def myFunc():\n",
    "    global x\n",
    "    x = \"Hello World\"\n",
    "myFunc()\n",
    "\n",
    "print(x)"
   ]
  },
  {
   "cell_type": "code",
   "execution_count": null,
   "id": "31b43590-7b55-455b-bb80-ae75c2ccea7c",
   "metadata": {},
   "outputs": [],
   "source": [
    "\n",
    "\n"
   ]
  }
 ],
 "metadata": {
  "kernelspec": {
   "display_name": "Python 3 (ipykernel)",
   "language": "python",
   "name": "python3"
  },
  "language_info": {
   "codemirror_mode": {
    "name": "ipython",
    "version": 3
   },
   "file_extension": ".py",
   "mimetype": "text/x-python",
   "name": "python",
   "nbconvert_exporter": "python",
   "pygments_lexer": "ipython3",
   "version": "3.10.1"
  }
 },
 "nbformat": 4,
 "nbformat_minor": 5
}
