{
 "cells": [
  {
   "cell_type": "code",
   "execution_count": 5,
   "metadata": {},
   "outputs": [],
   "source": [
    "from typing import List,Any,TypeVar,Generic,Dict"
   ]
  },
  {
   "cell_type": "code",
   "execution_count": 3,
   "metadata": {},
   "outputs": [
    {
     "name": "stdout",
     "output_type": "stream",
     "text": [
      "['a', 'b', 'c']\n",
      "[1, 2, 3]\n"
     ]
    }
   ],
   "source": [
    "T = TypeVar('T')\n",
    "\n",
    "def first(container : List[T]) -> T :\n",
    "    print(container)\n",
    "\n",
    "\n",
    "first(['a','b','c'])\n",
    "first([1,2,3])"
   ]
  },
  {
   "cell_type": "code",
   "execution_count": 7,
   "metadata": {},
   "outputs": [
    {
     "name": "stdout",
     "output_type": "stream",
     "text": [
      "steve\n"
     ]
    }
   ],
   "source": [
    "class Registry(Generic[T]):\n",
    "    def __init__(self) -> None:\n",
    "        self._store: Dict[str, T] = {}\n",
    "\n",
    "    def set_item(self, k: str, v: T) -> None:\n",
    "        self._store[k] = v\n",
    "\n",
    "    def get_item(self, k: str) -> T:\n",
    "        return self._store[k]\n",
    "\n",
    "\n",
    "family_name_reg = Registry[str]()\n",
    "family_age_reg = Registry[int]()\n",
    "\n",
    "family_name_reg.set_item(\"husband\", \"steve\")\n",
    "family_name_reg.set_item(\"dad\", \"john\")\n",
    "print(family_name_reg.get_item(\"husband\"))\n",
    "\n",
    "family_age_reg.set_item(\"steve\", 30)\n"
   ]
  }
 ],
 "metadata": {
  "interpreter": {
   "hash": "949777d72b0d2535278d3dc13498b2535136f6dfe0678499012e853ee9abcab1"
  },
  "kernelspec": {
   "display_name": "Python 3.9.9 64-bit",
   "language": "python",
   "name": "python3"
  },
  "language_info": {
   "codemirror_mode": {
    "name": "ipython",
    "version": 3
   },
   "file_extension": ".py",
   "mimetype": "text/x-python",
   "name": "python",
   "nbconvert_exporter": "python",
   "pygments_lexer": "ipython3",
   "version": "3.9.9"
  },
  "orig_nbformat": 4
 },
 "nbformat": 4,
 "nbformat_minor": 2
}
