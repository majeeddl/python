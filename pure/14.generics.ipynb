{
 "cells": [
  {
   "cell_type": "code",
   "execution_count": 2,
   "metadata": {},
   "outputs": [],
   "source": [
    "from typing import List,Any,TypeVar,Generic,Dict\n"
   ]
  },
  {
   "cell_type": "code",
   "execution_count": 3,
   "metadata": {},
   "outputs": [
    {
     "name": "stdout",
     "output_type": "stream",
     "text": [
      "['a', 'b', 'c']\n",
      "[1, 2, 3]\n"
     ]
    }
   ],
   "source": [
    "T = TypeVar('T')\n",
    "\n",
    "def first(container : List[T]) -> T :\n",
    "    print(container)\n",
    "\n",
    "\n",
    "first(['a','b','c'])\n",
    "first([1,2,3])"
   ]
  },
  {
   "cell_type": "code",
   "execution_count": 7,
   "metadata": {},
   "outputs": [
    {
     "name": "stdout",
     "output_type": "stream",
     "text": [
      "steve\n"
     ]
    }
   ],
   "source": [
    "class Registry(Generic[T]):\n",
    "    def __init__(self) -> None:\n",
    "        self._store: Dict[str, T] = {}\n",
    "\n",
    "    def set_item(self, k: str, v: T) -> None:\n",
    "        self._store[k] = v\n",
    "\n",
    "    def get_item(self, k: str) -> T:\n",
    "        return self._store[k]\n",
    "\n",
    "\n",
    "family_name_reg = Registry[str]()\n",
    "family_age_reg = Registry[int]()\n",
    "\n",
    "family_name_reg.set_item(\"husband\", \"steve\")\n",
    "family_name_reg.set_item(\"dad\", \"john\")\n",
    "print(family_name_reg.get_item(\"husband\"))\n",
    "\n",
    "family_age_reg.set_item(\"steve\", 30)\n"
   ]
  },
  {
   "cell_type": "code",
   "execution_count": 4,
   "metadata": {},
   "outputs": [
    {
     "ename": "ModuleNotFoundError",
     "evalue": "No module named 'pymongo'",
     "output_type": "error",
     "traceback": [
      "\u001b[1;31m---------------------------------------------------------------------------\u001b[0m",
      "\u001b[1;31mModuleNotFoundError\u001b[0m                       Traceback (most recent call last)",
      "Cell \u001b[1;32mIn[4], line 1\u001b[0m\n\u001b[1;32m----> 1\u001b[0m \u001b[39mimport\u001b[39;00m \u001b[39mpymongo\u001b[39;00m\n",
      "\u001b[1;31mModuleNotFoundError\u001b[0m: No module named 'pymongo'"
     ]
    }
   ],
   "source": [
    "import pymongo"
   ]
  }
 ],
 "metadata": {
  "kernelspec": {
   "display_name": "Python 3.9.13 ('.venv': pipenv)",
   "language": "python",
   "name": "python3"
  },
  "language_info": {
   "codemirror_mode": {
    "name": "ipython",
    "version": 3
   },
   "file_extension": ".py",
   "mimetype": "text/x-python",
   "name": "python",
   "nbconvert_exporter": "python",
   "pygments_lexer": "ipython3",
   "version": "3.9.13"
  },
  "orig_nbformat": 4,
  "vscode": {
   "interpreter": {
    "hash": "5f08430acb27c203c0d61100ff15833c74282a2f1946fa4367953b0f936b9c5e"
   }
  }
 },
 "nbformat": 4,
 "nbformat_minor": 2
}
