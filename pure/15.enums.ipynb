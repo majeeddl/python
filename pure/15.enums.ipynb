{
 "cells": [
  {
   "cell_type": "markdown",
   "metadata": {},
   "source": [
    "## enum in Python\n",
    "\n",
    "Enumerations in Python are implemented by using the module named “enum“.Enumerations are created using classes. Enums have names and values associated with them.\n",
    "Properties of enum:\n",
    "\n",
    "1. Enums can be displayed as string or repr.\n",
    "2. Enums can be checked for their types using type().\n",
    "3. “name” keyword is used to display the name of the enum member.\n",
    " "
   ]
  },
  {
   "cell_type": "code",
   "execution_count": 1,
   "metadata": {},
   "outputs": [],
   "source": [
    "from enum import Enum\n",
    "\n",
    "class Animal(Enum):\n",
    "    dog=1\n",
    "    cat=2\n",
    "    lion=3"
   ]
  },
  {
   "cell_type": "code",
   "execution_count": 3,
   "metadata": {},
   "outputs": [
    {
     "name": "stdout",
     "output_type": "stream",
     "text": [
      "The string representation of enum member is : Animal.dog\n"
     ]
    }
   ],
   "source": [
    "# printing enun number as string\n",
    "print(\"The string representation of enum member is : \", end=\"\")\n",
    "print(Animal.dog)"
   ]
  },
  {
   "cell_type": "code",
   "execution_count": 4,
   "metadata": {},
   "outputs": [
    {
     "name": "stdout",
     "output_type": "stream",
     "text": [
      "The repr representation of enum member is : <Animal.dog: 1>\n"
     ]
    }
   ],
   "source": [
    "# printing enum member as  repr\n",
    "print(\"The repr representation of enum member is : \", end=\"\")\n",
    "print(repr(Animal.dog))\n"
   ]
  },
  {
   "cell_type": "code",
   "execution_count": 5,
   "metadata": {},
   "outputs": [
    {
     "name": "stdout",
     "output_type": "stream",
     "text": [
      "The type of enum member is : <enum 'Animal'>\n"
     ]
    }
   ],
   "source": [
    "# printing the type of enum member using type()\n",
    "print(\"The type of enum member is : \", end=\"\")\n",
    "print(type(Animal.dog))\n"
   ]
  },
  {
   "cell_type": "code",
   "execution_count": 6,
   "metadata": {},
   "outputs": [
    {
     "name": "stdout",
     "output_type": "stream",
     "text": [
      "The name of enum member is : dog\n"
     ]
    }
   ],
   "source": [
    "# printing name of enum member using \"name\" keyword\n",
    "print (\"The name of enum member is : \",end =\"\")\n",
    "print(Animal.dog.name)"
   ]
  },
  {
   "cell_type": "code",
   "execution_count": 8,
   "metadata": {},
   "outputs": [
    {
     "name": "stdout",
     "output_type": "stream",
     "text": [
      "The value associated with dog is : 1\n"
     ]
    }
   ],
   "source": [
    "# Displaying value\n",
    "print(\"The value associated with dog is : \", end=\"\")\n",
    "print(Animal.dog.value)\n"
   ]
  },
  {
   "cell_type": "code",
   "execution_count": 7,
   "metadata": {},
   "outputs": [
    {
     "name": "stdout",
     "output_type": "stream",
     "text": [
      "The enum member associated with value 2 is : Animal.cat\n"
     ]
    }
   ],
   "source": [
    "# Accessing enum member using value\n",
    "print(\"The enum member associated with value 2 is : \", end=\"\")\n",
    "print(Animal(2))\n"
   ]
  },
  {
   "cell_type": "markdown",
   "metadata": {},
   "source": [
    "### enum.IntEnum in Python\n",
    "With the help of enum.IntEnum() method, we can get the enumeration based on integer value, if we compare with normal enum based class it will fail by using enum.IntEnum() method."
   ]
  },
  {
   "cell_type": "code",
   "execution_count": 9,
   "metadata": {},
   "outputs": [],
   "source": [
    "from enum import IntEnum\n",
    "\n",
    "class Author(IntEnum):\n",
    "    GEEK = 1\n",
    "    FOR = 2\n",
    "    GEEKS = 3"
   ]
  },
  {
   "cell_type": "code",
   "execution_count": 13,
   "metadata": {},
   "outputs": [
    {
     "name": "stdout",
     "output_type": "stream",
     "text": [
      "Author.FOR\n",
      "True\n"
     ]
    }
   ],
   "source": [
    "print(Author.FOR)\n",
    "print(Author.FOR == 2)\n"
   ]
  },
  {
   "cell_type": "code",
   "execution_count": 14,
   "metadata": {},
   "outputs": [
    {
     "name": "stdout",
     "output_type": "stream",
     "text": [
      "False\n"
     ]
    }
   ],
   "source": [
    "class language(Enum):\n",
    "    Python = 1\n",
    "    Java = 2\n",
    "\n",
    "\n",
    "print(Author.GEEK == language.Python)\n"
   ]
  }
 ],
 "metadata": {
  "interpreter": {
   "hash": "949777d72b0d2535278d3dc13498b2535136f6dfe0678499012e853ee9abcab1"
  },
  "kernelspec": {
   "display_name": "Python 3.9.9 64-bit",
   "language": "python",
   "name": "python3"
  },
  "language_info": {
   "codemirror_mode": {
    "name": "ipython",
    "version": 3
   },
   "file_extension": ".py",
   "mimetype": "text/x-python",
   "name": "python",
   "nbconvert_exporter": "python",
   "pygments_lexer": "ipython3",
   "version": "3.9.9"
  },
  "orig_nbformat": 4
 },
 "nbformat": 4,
 "nbformat_minor": 2
}
