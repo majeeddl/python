{
 "cells": [
  {
   "cell_type": "markdown",
   "metadata": {},
   "source": [
    "## Functional Programming in Python\n",
    "\n",
    "Functional programming is a programming paradigm in which we try to bind everything in pure mathematical functions style. It is a declarative type of programming style. Its main focus is on “what to solve” in contrast to an imperative style where the main focus is “how to solve“. It uses expressions instead of statements. An expression is evaluated to produce a value whereas a statement is executed to assign variables.\n",
    "\n",
    "### Concepts of Functional Programming\n",
    "Any Functional programming language is expected to follow these concepts.\n",
    "\n",
    "* Pure Functions: These functions have two main properties. First, they always produce the same output for the same arguments irrespective of anything else. Secondly, they have no side-effects i.e. they do modify any argument or global variables or output something.\n",
    "* Recursion: There are no “for” or “while” loop in functional languages. Iteration in functional languages is implemented through recursion.\n",
    "* Functions are First-Class and can be Higher-Order: First-class functions are treated as first-class variable. The first-class variables can be passed to functions as a parameter, can be returned from functions or stored in data structures.\n",
    "\n",
    "* Variables are Immutable: In functional programming, we can’t modify a variable after it’s been initialized. We can create new variables – but we can’t modify existing variables."
   ]
  },
  {
   "cell_type": "markdown",
   "metadata": {},
   "source": [
    "### Pure Functions"
   ]
  },
  {
   "cell_type": "code",
   "execution_count": 1,
   "metadata": {},
   "outputs": [
    {
     "name": "stdout",
     "output_type": "stream",
     "text": [
      "Original List: [1, 2, 3, 4]\n",
      "Modified List: [1, 4, 9, 16]\n"
     ]
    }
   ],
   "source": [
    "# Python program to demonstrate\n",
    "# pure functions\n",
    "\n",
    "\n",
    "# A pure function that does Not\n",
    "# changes the input list and\n",
    "# returns the new List\n",
    "def pure_func(List):\n",
    "\n",
    "    New_List = []\n",
    "\n",
    "    for i in List:\n",
    "        New_List.append(i**2)\n",
    "\n",
    "    return New_List\n",
    "\n",
    "\n",
    "# Driver's code\n",
    "Original_List = [1, 2, 3, 4]\n",
    "Modified_List = pure_func(Original_List)\n",
    "\n",
    "print(\"Original List:\", Original_List)\n",
    "print(\"Modified List:\", Modified_List)\n"
   ]
  },
  {
   "cell_type": "markdown",
   "metadata": {},
   "source": [
    "### Recursion\n",
    "\n",
    "During functional programming, there is no concept of for loop or while loop, instead recursion is used. Recursion is a process in which a function calls itself directly or indirectly. In the recursive program, the solution to the base case is provided and the solution to the bigger problem is expressed in terms of smaller problems. A question may arise what is base case? The base case can be considered as a condition that tells the compiler or interpreter to exit from the function."
   ]
  },
  {
   "cell_type": "code",
   "execution_count": 2,
   "metadata": {},
   "outputs": [
    {
     "name": "stdout",
     "output_type": "stream",
     "text": [
      "15\n"
     ]
    }
   ],
   "source": [
    "# Python program to demonstrate\n",
    "# recursion\n",
    "\n",
    "\n",
    "# Recursive Function to find\n",
    "# sum of a list\n",
    "def Sum(L, i, n, count):\n",
    "\n",
    "    # Base case\n",
    "    if n <= i:\n",
    "        return count\n",
    "\n",
    "    count += L[i]\n",
    "\n",
    "    # Going into the recursion\n",
    "    count = Sum(L, i + 1, n, count)\n",
    "\n",
    "    return count\n",
    "\n",
    "\n",
    "# Driver's code\n",
    "L = [1, 2, 3, 4, 5]\n",
    "count = 0\n",
    "n = len(L)\n",
    "print(Sum(L, 0, n, count))\n"
   ]
  },
  {
   "cell_type": "markdown",
   "metadata": {},
   "source": [
    "### Functions are First-Class and can be Higher-Order\n",
    "First-class objects are handled uniformly throughout. They may be stored in data structures, passed as arguments, or used in control structures. A programming language is said to support first-class functions if it treats functions as first-class objects.\n",
    "\n",
    "Properties of first class functions:\n",
    "\n",
    "    A function is an instance of the Object type.\n",
    "    You can store the function in a variable.\n",
    "    You can pass the function as a parameter to another function.\n",
    "    You can return the function from a function.\n",
    "    You can store them in data structures such as hash tables, lists, …\n",
    "\n"
   ]
  },
  {
   "cell_type": "code",
   "execution_count": 3,
   "metadata": {},
   "outputs": [
    {
     "name": "stdout",
     "output_type": "stream",
     "text": [
      "HI, I AM CREATED BY A FUNCTION PASSED AS AN ARGUMENT.\n",
      "hi, i am created by a function passed as an argument.\n"
     ]
    }
   ],
   "source": [
    "# Python program to demonstrate\n",
    "# higher order functions\n",
    "\n",
    "\n",
    "def shout(text):\n",
    "\treturn text.upper()\n",
    "\n",
    "\n",
    "def whisper(text):\n",
    "\treturn text.lower()\n",
    "\n",
    "\n",
    "def greet(func):\n",
    "\t# storing the function in a variable\n",
    "\tgreeting = func(\"Hi, I am created by a function passed as an argument.\")\n",
    "\tprint(greeting)\n",
    "\n",
    "\n",
    "greet(shout)\n",
    "greet(whisper)\n"
   ]
  },
  {
   "cell_type": "markdown",
   "metadata": {},
   "source": [
    "### Built-in Higher-order functions\n",
    "\n",
    "To make the processing of iterable objects like lists and iterator much easier, Python has implemented some commonly used Higher-Order Functions. These functions return an iterator that is space-efficient. Some of the built-in higher-order functions are:\n",
    "\n",
    "Map(): map() function returns a list of the results after applying the given function to each item of a given iterable (list, tuple etc.)\n",
    "Syntax: map(fun, iter)\n",
    "\n",
    "Parameters:\n",
    "fun: It is a function to which map passes each element of given iterable.\n",
    "iter: It is a iterable which is to be mapped.\n",
    "\n",
    "Return Type: Returns an iterator of map class."
   ]
  },
  {
   "cell_type": "code",
   "execution_count": null,
   "metadata": {},
   "outputs": [],
   "source": [
    "# Python program to demonstrate working\n",
    "# of map.\n",
    "\n",
    "# Return double of n\n",
    "def addition(n):\n",
    "\treturn n + n\n",
    "\n",
    "\n",
    "# We double all numbers using map()\n",
    "numbers = (1, 2, 3, 4)\n",
    "results = map(addition, numbers)\n",
    "\n",
    "# Does not Print the value\n",
    "print(results)\n",
    "\n",
    "# For Printing value\n",
    "for result in results:\n",
    "\tprint(result, end=\" \")\n"
   ]
  }
 ],
 "metadata": {
  "interpreter": {
   "hash": "949777d72b0d2535278d3dc13498b2535136f6dfe0678499012e853ee9abcab1"
  },
  "kernelspec": {
   "display_name": "Python 3.9.9 64-bit",
   "language": "python",
   "name": "python3"
  },
  "language_info": {
   "codemirror_mode": {
    "name": "ipython",
    "version": 3
   },
   "file_extension": ".py",
   "mimetype": "text/x-python",
   "name": "python",
   "nbconvert_exporter": "python",
   "pygments_lexer": "ipython3",
   "version": "3.9.9"
  },
  "orig_nbformat": 4
 },
 "nbformat": 4,
 "nbformat_minor": 2
}
