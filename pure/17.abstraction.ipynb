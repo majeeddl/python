{
 "cells": [
  {
   "cell_type": "markdown",
   "metadata": {},
   "source": [
    "## Abstract Classes in Python\n",
    "\n",
    "An abstract class can be considered as a blueprint for other classes. It allows you to create a set of methods that must be created within any child classes built from the abstract class. A class which contains one or more abstract methods is called an abstract class. An abstract method is a method that has a declaration but does not have an implementation. While we are designing large functional units we use an abstract class. When we want to provide a common interface for different implementations of a component, we use an abstract class. \n",
    "\n",
    "### Why use Abstract Base Classes : \n",
    "By defining an abstract base class, you can define a common Application Program Interface(API) for a set of subclasses. This capability is especially useful in situations where a third-party is going to provide implementations, such as with plugins, but can also help you when working in a large team or with a large code-base where keeping all classes in your mind is difficult or not possible. \n",
    "\n",
    "### How Abstract Base classes work : \n",
    "By default, Python does not provide abstract classes. Python comes with a module that provides the base for defining Abstract Base classes(ABC) and that module name is ABC. ABC works by decorating methods of the base class as abstract and then registering concrete classes as implementations of the abstract base. A method becomes abstract when decorated with the keyword @abstractmethod. For Example –"
   ]
  },
  {
   "cell_type": "code",
   "execution_count": 10,
   "metadata": {},
   "outputs": [],
   "source": [
    "# Python abstraction\n",
    "\n",
    "from abc import ABC,abstractclassmethod,abstractproperty\n",
    "\n",
    "\n",
    "class Polygon(ABC):\n",
    "\n",
    "    @abstractclassmethod\n",
    "    def noofsides(self):\n",
    "        print(\" I have 3 sides\")\n"
   ]
  },
  {
   "cell_type": "code",
   "execution_count": 4,
   "metadata": {},
   "outputs": [
    {
     "ename": "TypeError",
     "evalue": "Can't instantiate abstract class Test with abstract method noofsides",
     "output_type": "error",
     "traceback": [
      "\u001b[1;31m---------------------------------------------------------------------------\u001b[0m",
      "\u001b[1;31mTypeError\u001b[0m                                 Traceback (most recent call last)",
      "Cell \u001b[1;32mIn[4], line 6\u001b[0m\n\u001b[0;32m      3\u001b[0m \u001b[39mclass\u001b[39;00m \u001b[39mTest\u001b[39;00m(Polygon):\n\u001b[0;32m      4\u001b[0m     \u001b[39mpass\u001b[39;00m\n\u001b[1;32m----> 6\u001b[0m test \u001b[39m=\u001b[39m Test()\n\u001b[0;32m      7\u001b[0m test\u001b[39m.\u001b[39mnoofsides()\n",
      "\u001b[1;31mTypeError\u001b[0m: Can't instantiate abstract class Test with abstract method noofsides"
     ]
    }
   ],
   "source": [
    "# test abstract classes\n",
    "\n",
    "class Test(Polygon):\n",
    "    pass\n",
    "\n",
    "test = Test()\n",
    "test.noofsides() ## TypeError: Can't instantiate abstract class Test with abstract method noofsides"
   ]
  },
  {
   "cell_type": "code",
   "execution_count": 5,
   "metadata": {},
   "outputs": [
    {
     "name": "stdout",
     "output_type": "stream",
     "text": [
      "override of abstract method\n"
     ]
    }
   ],
   "source": [
    "class Triangle(Polygon):\n",
    "\n",
    "    # overriding abstract method\n",
    "    def noofsides(self):\n",
    "        print(\"override of abstract method\")\n",
    "\n",
    "\n",
    "R = Triangle()\n",
    "R.noofsides()\n"
   ]
  },
  {
   "cell_type": "markdown",
   "metadata": {},
   "source": [
    "#### Implementation Through Subclassing : \n",
    "By subclassing directly from the base, we can avoid the need to register the class explicitly. In this case, the Python class management is used to recognize PluginImplementation as implementing the abstract PluginBase."
   ]
  },
  {
   "cell_type": "code",
   "execution_count": 3,
   "metadata": {},
   "outputs": [
    {
     "name": "stdout",
     "output_type": "stream",
     "text": [
      "True\n",
      "True\n"
     ]
    }
   ],
   "source": [
    "import abc\n",
    " \n",
    "class parent:      \n",
    "    def geeks(self):\n",
    "        pass\n",
    " \n",
    "class child(parent):\n",
    "    def geeks(self):\n",
    "        print(\"child class\")\n",
    " \n",
    "# Driver code\n",
    "print( issubclass(child, parent))\n",
    "print( isinstance(child(), parent))"
   ]
  },
  {
   "cell_type": "markdown",
   "metadata": {},
   "source": [
    "#### Concrete Methods in Abstract Base Classes : \n",
    "Concrete classes contain only concrete (normal)methods whereas abstract classes may contain both concrete methods and abstract methods. The concrete class provides an implementation of abstract methods, the abstract base class can also provide an implementation by invoking the methods via super(). "
   ]
  },
  {
   "cell_type": "code",
   "execution_count": 11,
   "metadata": {},
   "outputs": [
    {
     "name": "stdout",
     "output_type": "stream",
     "text": [
      "Abstract Base Class\n",
      "subclass \n"
     ]
    }
   ],
   "source": [
    "class R(ABC):\n",
    "    def rk(self):\n",
    "        print(\"Abstract Base Class\")\n",
    "\n",
    "\n",
    "class K(R):\n",
    "    def rk(self):\n",
    "        super().rk()\n",
    "        print(\"subclass \")\n",
    "\n",
    "\n",
    "# Driver code\n",
    "r = K()\n",
    "r.rk()\n"
   ]
  },
  {
   "cell_type": "markdown",
   "metadata": {},
   "source": [
    "#### Abstract Properties : \n",
    "Abstract classes include attributes in addition to methods, you can require the attributes in concrete classes by defining them with @abstractproperty. "
   ]
  },
  {
   "cell_type": "code",
   "execution_count": 12,
   "metadata": {},
   "outputs": [
    {
     "name": "stdout",
     "output_type": "stream",
     "text": [
      "Can't instantiate abstract class parent with abstract method geeks\n",
      "child class\n"
     ]
    }
   ],
   "source": [
    "class parent(ABC):\n",
    "    @abstractproperty\n",
    "    def geeks(self):\n",
    "        return \"parent class\"\n",
    "\n",
    "\n",
    "class child(parent):\n",
    "\n",
    "    @property\n",
    "    def geeks(self):\n",
    "        return \"child class\"\n",
    "\n",
    "\n",
    "try:\n",
    "    r = parent()\n",
    "    print(r.geeks)\n",
    "except Exception as err:\n",
    "    print(err)\n",
    "\n",
    "r = child()\n",
    "print(r.geeks)\n"
   ]
  }
 ],
 "metadata": {
  "kernelspec": {
   "display_name": "Python 3.9.13 ('.venv': venv)",
   "language": "python",
   "name": "python3"
  },
  "language_info": {
   "codemirror_mode": {
    "name": "ipython",
    "version": 3
   },
   "file_extension": ".py",
   "mimetype": "text/x-python",
   "name": "python",
   "nbconvert_exporter": "python",
   "pygments_lexer": "ipython3",
   "version": "3.9.13"
  },
  "orig_nbformat": 4,
  "vscode": {
   "interpreter": {
    "hash": "bbac8e1aa4d4576477d42e0db12d54f95a71433fa3ec9585f9508c8afe89884c"
   }
  }
 },
 "nbformat": 4,
 "nbformat_minor": 2
}
