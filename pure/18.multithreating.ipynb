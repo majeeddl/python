{
 "cells": [
  {
   "cell_type": "markdown",
   "metadata": {},
   "source": [
    "## Multithreading in Python\n",
    "\n",
    "A thread is an entity within a process that can be scheduled for execution. Also, it is the smallest unit of processing that can be performed in an OS (Operating System).\n",
    "\n",
    "In simple words, a thread is a sequence of such instructions within a program that can be executed independently of other code. For simplicity, you can assume that a thread is simply a subset of a process!\n",
    "\n",
    "A thread contains all this information in a Thread Control Block (TCB):\n",
    "\n",
    "* Thread Identifier: Unique id (TID) is assigned to every new thread\n",
    "* Stack pointer: Points to thread’s stack in the process. Stack contains the local variables under thread’s scope.\n",
    "* Program counter: a register which stores the address of the instruction currently being executed by thread.\n",
    "* Thread state: can be running, ready, waiting, start or done.\n",
    "* Thread’s register set: registers assigned to thread for computations.\n",
    "* Parent process Pointer: A pointer to the Process control block (PCB) of the process that the thread lives on.\n",
    "\n",
    "\n",
    "Multithreading is defined as the ability of a processor to execute multiple threads concurrently.\n"
   ]
  },
  {
   "cell_type": "code",
   "execution_count": 1,
   "metadata": {},
   "outputs": [
    {
     "name": "stdout",
     "output_type": "stream",
     "text": [
      "Square : 100Cube : 1000\n",
      "\n",
      "Done\n"
     ]
    }
   ],
   "source": [
    "# Python program to illustrate the concept of threating\n",
    "# Import the multithreating module\n",
    "# \n",
    "\n",
    "import threading\n",
    "\n",
    "def print_cube(num):\n",
    "    # function to print cube of given num\n",
    "    print(\"Cube : {}\".format(num*num*num))\n",
    "\n",
    "def print_square(num):\n",
    "    # function to print square of given number\n",
    "    print(\"Square : {}\".format(num*num))\n",
    "\n",
    "\n",
    "# creating threads\n",
    "t1=threading.Thread(target=print_square,args=(10,))\n",
    "t2=threading.Thread(target=print_cube,args=(10,))\n",
    "\n",
    "#starting threat 1\n",
    "t1.start()\n",
    "#strarting threat 2\n",
    "t2.start()\n",
    "\n",
    "# wait until threat 1 is completely executed\n",
    "t1.join()\n",
    "# wait until threat 2 is completely executed\n",
    "t2.join()\n",
    "\n",
    "# Both threads completely executed\n",
    "print(\"Done\")"
   ]
  },
  {
   "cell_type": "markdown",
   "metadata": {},
   "source": [
    "## Multithreading in Python | Set 2 (Synchronization)\n",
    "\n",
    "Concurrent accesses to shared resource can lead to race condition.\n",
    "\n",
    "A race condition occurs when two or more threads can access shared data and they try to change it at the same time. As a result, the values of variables may be unpredictable and vary depending on the timings of context switches of the processes.'\n",
    "\n",
    "\n",
    "Lock class provides following methods:\n",
    "\n",
    "acquire([blocking]) : To acquire a lock. A lock can be blocking or non-blocking.\n",
    "When invoked with the blocking argument set to True (the default), thread execution is blocked until the lock is unlocked, then lock is set to locked and return True.\n",
    "When invoked with the blocking argument set to False, thread execution is not blocked. If lock is unlocked, then set it to locked and return True else return False immediately.\n",
    "release() : To release a lock.\n",
    "When the lock is locked, reset it to unlocked, and return. If any other threads are blocked waiting for the lock to become unlocked, allow exactly one of them to proceed.\n",
    "If lock is already unlocked, a ThreadError is raised.\n"
   ]
  },
  {
   "cell_type": "code",
   "execution_count": 2,
   "metadata": {},
   "outputs": [
    {
     "name": "stdout",
     "output_type": "stream",
     "text": [
      "Iteration 0: x = 200000\n",
      "Iteration 1: x = 200000\n",
      "Iteration 2: x = 200000\n",
      "Iteration 3: x = 200000\n",
      "Iteration 4: x = 200000\n",
      "Iteration 5: x = 200000\n",
      "Iteration 6: x = 200000\n",
      "Iteration 7: x = 200000\n",
      "Iteration 8: x = 200000\n",
      "Iteration 9: x = 200000\n"
     ]
    }
   ],
   "source": [
    "import threading\n",
    "  \n",
    "# global variable x\n",
    "x = 0\n",
    "  \n",
    "def increment():\n",
    "    \"\"\"\n",
    "    function to increment global variable x\n",
    "    \"\"\"\n",
    "    global x\n",
    "    x += 1\n",
    "  \n",
    "def thread_task(lock):\n",
    "    \"\"\"\n",
    "    task for thread\n",
    "    calls increment function 100000 times.\n",
    "    \"\"\"\n",
    "    for _ in range(100000):\n",
    "        lock.acquire()\n",
    "        increment()\n",
    "        lock.release()\n",
    "  \n",
    "def main_task():\n",
    "    global x\n",
    "    # setting global variable x as 0\n",
    "    x = 0\n",
    "  \n",
    "    # creating a lock\n",
    "    lock = threading.Lock()\n",
    "  \n",
    "    # creating threads\n",
    "    t1 = threading.Thread(target=thread_task, args=(lock,))\n",
    "    t2 = threading.Thread(target=thread_task, args=(lock,))\n",
    "  \n",
    "    # start threads\n",
    "    t1.start()\n",
    "    t2.start()\n",
    "  \n",
    "    # wait until threads finish their job\n",
    "    t1.join()\n",
    "    t2.join()\n",
    "  \n",
    "for i in range(10):\n",
    "    main_task()\n",
    "    print(\"Iteration {0}: x = {1}\".format(i,x))"
   ]
  }
 ],
 "metadata": {
  "interpreter": {
   "hash": "949777d72b0d2535278d3dc13498b2535136f6dfe0678499012e853ee9abcab1"
  },
  "kernelspec": {
   "display_name": "Python 3.9.9 64-bit",
   "language": "python",
   "name": "python3"
  },
  "language_info": {
   "codemirror_mode": {
    "name": "ipython",
    "version": 3
   },
   "file_extension": ".py",
   "mimetype": "text/x-python",
   "name": "python",
   "nbconvert_exporter": "python",
   "pygments_lexer": "ipython3",
   "version": "3.9.9"
  },
  "orig_nbformat": 4
 },
 "nbformat": 4,
 "nbformat_minor": 2
}
