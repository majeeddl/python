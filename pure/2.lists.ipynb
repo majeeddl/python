{
 "cells": [
  {
   "cell_type": "code",
   "execution_count": 1,
   "id": "1bd5b8c0-39f8-4233-975e-ef22bfefec68",
   "metadata": {},
   "outputs": [
    {
     "name": "stdout",
     "output_type": "stream",
     "text": [
      "['apple', 'banana', 'cherry']\n"
     ]
    }
   ],
   "source": [
    "#Create A new list\n",
    "myList = [ \"apple\", \"banana\" , \"cherry\"]\n",
    "print(myList)"
   ]
  },
  {
   "cell_type": "code",
   "execution_count": 2,
   "id": "6e81bd22-672e-4aa6-b5d8-10183c1ae486",
   "metadata": {},
   "outputs": [
    {
     "name": "stdout",
     "output_type": "stream",
     "text": [
      "3\n"
     ]
    }
   ],
   "source": [
    "print(len(myList))"
   ]
  },
  {
   "cell_type": "code",
   "execution_count": 3,
   "id": "2a378a6f-e2d0-40dc-9b99-1bf395cc0b69",
   "metadata": {},
   "outputs": [
    {
     "name": "stdout",
     "output_type": "stream",
     "text": [
      "['apple', 'banana', 'cherry']\n"
     ]
    }
   ],
   "source": [
    "# The List() constructor\n",
    "\n",
    "listTwo = list((\"apple\",\"banana\",\"cherry\"))\n",
    "print(listTwo)"
   ]
  },
  {
   "cell_type": "code",
   "execution_count": 4,
   "id": "efb5fccb-a514-43f8-a78d-f5d7a30f2b6d",
   "metadata": {},
   "outputs": [
    {
     "name": "stdout",
     "output_type": "stream",
     "text": [
      "apple\n",
      "cherry\n"
     ]
    }
   ],
   "source": [
    "#Access item of lists\n",
    "\n",
    "print(myList[0])\n",
    "print(myList[-1])"
   ]
  },
  {
   "cell_type": "code",
   "execution_count": 5,
   "id": "6ca42504-4815-4133-a6e7-5e80215576ce",
   "metadata": {},
   "outputs": [
    {
     "name": "stdout",
     "output_type": "stream",
     "text": [
      "['cherry', 'orange', 'kiwi']\n",
      "['apple', 'banana', 'cherry', 'orange']\n",
      "['cherry', 'orange', 'kiwi', 'melon', 'mango']\n"
     ]
    }
   ],
   "source": [
    "#Range of indexes\n",
    "#You can specify a range of indexes by specifying where to start and where to end the range.\n",
    "#When specifying a range, the return value will be a new list with the specified items.\n",
    "\n",
    "listThree = [\"apple\", \"banana\", \"cherry\", \"orange\", \"kiwi\", \"melon\", \"mango\"]\n",
    "#Note: The search will start at index 2 (included) and end at index 5 (not included).\n",
    "\n",
    "print(listThree[2:5])\n",
    "print(listThree[:4])\n",
    "print(listThree[2:])\n"
   ]
  },
  {
   "cell_type": "code",
   "execution_count": 6,
   "id": "fee4ec61-08e1-46dd-905a-d2922b212ade",
   "metadata": {},
   "outputs": [
    {
     "name": "stdout",
     "output_type": "stream",
     "text": [
      "Yes, 'apple' is in the friuts list\n"
     ]
    }
   ],
   "source": [
    "#Check if item exists\n",
    "\n",
    "if \"apple\" in listThree:\n",
    "    print(\"Yes, 'apple' is in the friuts list\")"
   ]
  },
  {
   "cell_type": "code",
   "execution_count": 7,
   "id": "ddd242df-6dbe-4b7a-b9f4-36b775867bc9",
   "metadata": {},
   "outputs": [
    {
     "name": "stdout",
     "output_type": "stream",
     "text": [
      "['apple', 'blackcurrant', 'cherry']\n",
      "['apple', 'blackcurrant', 'watermelon', 'orange', 'kiwi', 'mango']\n",
      "['apple', 'watermelon']\n"
     ]
    }
   ],
   "source": [
    "#Change item value in list\n",
    "\n",
    "listFour = [\"apple\", \"banana\", \"cherry\"]\n",
    "listFour[1] = \"blackcurrant\"\n",
    "print(listFour)\n",
    "\n",
    "listFive = [\"apple\", \"banana\", \"cherry\", \"orange\", \"kiwi\", \"mango\"]\n",
    "listFive[1:3] = [\"blackcurrant\", \"watermelon\"]\n",
    "print(listFive)\n",
    "\n",
    "\n",
    "listSix = [\"apple\", \"banana\", \"cherry\"]\n",
    "listSix[1:3] = [\"watermelon\"]\n",
    "print(listSix)\n"
   ]
  },
  {
   "cell_type": "code",
   "execution_count": 8,
   "id": "e99992de-d472-4dc0-a900-8f61f1b68499",
   "metadata": {},
   "outputs": [
    {
     "name": "stdout",
     "output_type": "stream",
     "text": [
      "['apple', 'banana', 'watermelon', 'cherry']\n"
     ]
    }
   ],
   "source": [
    "#Insert Items\n",
    "\n",
    "listSeven = [\"apple\", \"banana\", \"cherry\"]\n",
    "listSeven.insert(2, \"watermelon\")\n",
    "print(listSeven)"
   ]
  },
  {
   "cell_type": "code",
   "execution_count": 9,
   "id": "dcb045c7-eec3-4635-9d19-003c34093a37",
   "metadata": {},
   "outputs": [
    {
     "name": "stdout",
     "output_type": "stream",
     "text": [
      "['apple', 'banana', 'cherry', 'orange']\n"
     ]
    }
   ],
   "source": [
    "#Add list items\n",
    "thislist = [\"apple\", \"banana\", \"cherry\"]\n",
    "thislist.append(\"orange\")\n",
    "print(thislist)"
   ]
  },
  {
   "cell_type": "code",
   "execution_count": 10,
   "id": "b6d73dc0-5a91-424d-bcfa-05c7628e8926",
   "metadata": {},
   "outputs": [
    {
     "name": "stdout",
     "output_type": "stream",
     "text": [
      "['apple', 'banana', 'cherry', 'mango', 'pineapple', 'papaya']\n"
     ]
    }
   ],
   "source": [
    "#Extend list\n",
    "thislist = [\"apple\", \"banana\", \"cherry\"]\n",
    "tropical = [\"mango\", \"pineapple\", \"papaya\"]\n",
    "thislist.extend(tropical)\n",
    "print(thislist)"
   ]
  },
  {
   "cell_type": "code",
   "execution_count": 11,
   "id": "0ad5f410-836f-41d2-8170-c8f117824b6d",
   "metadata": {},
   "outputs": [
    {
     "name": "stdout",
     "output_type": "stream",
     "text": [
      "['apple', 'banana', 'cherry', 'kiwi', 'orange']\n"
     ]
    }
   ],
   "source": [
    "# Add any iterable\n",
    "thislist = [\"apple\", \"banana\", \"cherry\"]\n",
    "thistuple = (\"kiwi\", \"orange\")\n",
    "thislist.extend(thistuple)\n",
    "print(thislist)\n"
   ]
  },
  {
   "cell_type": "code",
   "execution_count": 12,
   "id": "fb51b224-3879-4ba3-9782-a6ae583695c4",
   "metadata": {},
   "outputs": [
    {
     "name": "stdout",
     "output_type": "stream",
     "text": [
      "['apple', 'cherry']\n",
      "['apple', 'cherry']\n",
      "['banana', 'cherry']\n",
      "[]\n"
     ]
    }
   ],
   "source": [
    "# Remove specified item\n",
    "thislist = [\"apple\", \"banana\", \"cherry\"]\n",
    "thislist.remove(\"banana\")\n",
    "print(thislist)\n",
    "\n",
    "#Remove specified index\n",
    "#If you do not specify the index, the pop() method removes the last item.\n",
    "thislist = [\"apple\", \"banana\", \"cherry\"]\n",
    "thislist.pop(1)\n",
    "print(thislist)\n",
    "\n",
    "# del\n",
    "thislist = [\"apple\", \"banana\", \"cherry\"]\n",
    "del thislist[0]\n",
    "print(thislist)\n",
    "\n",
    "#The del keyword can also delete the list completely.\n",
    "thislist = [\"apple\", \"banana\", \"cherry\"]\n",
    "del thislist\n",
    "\n",
    "#CLear the list\n",
    "thislist = [\"apple\", \"banana\", \"cherry\"]\n",
    "thislist.clear()\n",
    "print(thislist)"
   ]
  },
  {
   "cell_type": "code",
   "execution_count": 14,
   "id": "2ffb04a2-a151-40d5-a86a-e4c3c6fe155f",
   "metadata": {},
   "outputs": [
    {
     "name": "stdout",
     "output_type": "stream",
     "text": [
      "apple\n",
      "banana\n",
      "cherry\n",
      "apple\n",
      "banana\n",
      "cherry\n"
     ]
    }
   ],
   "source": [
    "#Loop Lists\n",
    "thislist = [\"apple\", \"banana\", \"cherry\"]\n",
    "for x in thislist:\n",
    "  print(x)\n",
    "\n",
    "#Loop through the index numbers\n",
    "thislist = [\"apple\", \"banana\", \"cherry\"]\n",
    "for i in range(len(thislist)):\n",
    "    print(thislist[i])\n",
    "    \n",
    "#Using a While Loop\n",
    "#You can loop through the list items by using a while loop\n",
    "while i < len(thislist):\n",
    "    # your code here\n",
    "    i = i+1\n",
    "\n",
    "    "
   ]
  },
  {
   "cell_type": "code",
   "execution_count": 22,
   "id": "1abb4c98-0a23-4baa-8301-704e5b5b152f",
   "metadata": {},
   "outputs": [
    {
     "name": "stdout",
     "output_type": "stream",
     "text": [
      "['orange']\n",
      "['banana', 'orange']\n"
     ]
    }
   ],
   "source": [
    "# List comprehension offers a shorter syntax when you want to create a new list based on the values of an existing list.\n",
    "# syntax : newlist = [expression for item in iterable if condition == True]\n",
    "fruits = [\"apple\",\"banana\",\"orange\"]\n",
    "newList = [x for x in fruits if \"o\" in x]\n",
    "print (newList)\n",
    "newList = [x for x in fruits if x != \"apple\"]\n",
    "print(newList)"
   ]
  },
  {
   "cell_type": "code",
   "execution_count": 24,
   "id": "92072680",
   "metadata": {},
   "outputs": [
    {
     "name": "stdout",
     "output_type": "stream",
     "text": [
      "['banana', 'kiwi', 'mango', 'orange', 'pineapple']\n",
      "['pineapple', 'orange', 'mango', 'kiwi', 'banana']\n"
     ]
    }
   ],
   "source": [
    "#Sort List Alphanumerically or numerically\n",
    "thislist = [\"orange\", \"mango\", \"kiwi\", \"pineapple\", \"banana\"]\n",
    "thislist.sort()\n",
    "print(thislist)\n",
    "\n",
    "#Sort Descending\n",
    "thislist = [\"orange\", \"mango\", \"kiwi\", \"pineapple\", \"banana\"]\n",
    "thislist.sort(reverse=True)\n",
    "print(thislist)\n",
    "\n",
    "#Customize Sort Function\n",
    "\n",
    "\n",
    "def myfunc(n):\n",
    "  return abs(n - 50)\n",
    "\n",
    "\n",
    "thislist = [100, 50, 65, 82, 23]\n",
    "thislist.sort(key=myfunc)\n",
    "print(thislist)\n"
   ]
  },
  {
   "cell_type": "code",
   "execution_count": 25,
   "id": "fd141033",
   "metadata": {},
   "outputs": [
    {
     "name": "stdout",
     "output_type": "stream",
     "text": [
      "['apple', 'banana', 'cherry']\n"
     ]
    }
   ],
   "source": [
    "#Copy a List\n",
    "thislist = [\"apple\", \"banana\", \"cherry\"]\n",
    "mylist = thislist.copy()\n",
    "print(mylist)\n",
    "\n",
    "# Another way to copy is to use the built-in method list()\n",
    "thislist = [\"apple\", \"banana\", \"cherry\"]\n",
    "mylist = list(thislist)\n",
    "print(mylist)\n"
   ]
  },
  {
   "cell_type": "code",
   "execution_count": 28,
   "id": "46c84bd7",
   "metadata": {},
   "outputs": [
    {
     "name": "stdout",
     "output_type": "stream",
     "text": [
      "['a', 'b', 'c', 1, 2, 3]\n",
      "['a', 'b', 'c', 1, 2, 3]\n",
      "['a', 'b', 'c', 1, 2, 3]\n"
     ]
    }
   ],
   "source": [
    "# Join list\n",
    "list1 = [\"a\", \"b\", \"c\"]\n",
    "list2 = [1, 2, 3]\n",
    "\n",
    "list3 = list1 + list2\n",
    "print(list3)\n",
    "#or\n",
    "list1 = [\"a\", \"b\", \"c\"]\n",
    "list2 = [1, 2, 3]\n",
    "\n",
    "for x in list2:\n",
    "  list1.append(x)\n",
    "\n",
    "print(list1)\n",
    "\n",
    "# Or you can use extend() method\n",
    "list1 = [\"a\", \"b\", \"c\"]\n",
    "list2 = [1, 2, 3]\n",
    "\n",
    "list1.extend(list2)\n",
    "print(list1)\n"
   ]
  }
 ],
 "metadata": {
  "kernelspec": {
   "display_name": "Python 3 (ipykernel)",
   "language": "python",
   "name": "python3"
  },
  "language_info": {
   "codemirror_mode": {
    "name": "ipython",
    "version": 3
   },
   "file_extension": ".py",
   "mimetype": "text/x-python",
   "name": "python",
   "nbconvert_exporter": "python",
   "pygments_lexer": "ipython3",
   "version": "3.9.9"
  }
 },
 "nbformat": 4,
 "nbformat_minor": 5
}
