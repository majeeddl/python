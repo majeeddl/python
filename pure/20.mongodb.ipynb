{
 "cells": [
  {
   "cell_type": "code",
   "execution_count": 6,
   "metadata": {},
   "outputs": [],
   "source": [
    "import pymongo\n",
    "\n",
    "db = 'python_dev'"
   ]
  },
  {
   "cell_type": "code",
   "execution_count": 7,
   "metadata": {},
   "outputs": [
    {
     "name": "stdout",
     "output_type": "stream",
     "text": [
      "MongoClient(host=['localhost:27017'], document_class=dict, tz_aware=False, connect=True)\n"
     ]
    }
   ],
   "source": [
    "#connect to database\n",
    "myclient = pymongo.MongoClient(\"mongodb://localhost:27017\")\n",
    "\n",
    "print(myclient)"
   ]
  },
  {
   "cell_type": "code",
   "execution_count": 8,
   "metadata": {},
   "outputs": [],
   "source": [
    "mydb = myclient[db]"
   ]
  },
  {
   "cell_type": "code",
   "execution_count": 9,
   "metadata": {},
   "outputs": [
    {
     "name": "stdout",
     "output_type": "stream",
     "text": [
      "['Catalog', 'ProductDB', 'admin', 'config', 'local', 'python_dev']\n"
     ]
    }
   ],
   "source": [
    "# return a list of databases\n",
    "print(myclient.list_database_names())"
   ]
  },
  {
   "cell_type": "code",
   "execution_count": 10,
   "metadata": {},
   "outputs": [],
   "source": [
    "# create a collection called \"customers\"\n",
    "\n",
    "mycol = mydb[\"customers\"]"
   ]
  },
  {
   "cell_type": "code",
   "execution_count": 11,
   "metadata": {},
   "outputs": [
    {
     "name": "stdout",
     "output_type": "stream",
     "text": [
      "63909adb5384327ed7b675a4\n"
     ]
    }
   ],
   "source": [
    "# Insert a new record in customer's collection\n",
    "\n",
    "mydict = { \"name\" : \"john\", \"age\" : 36}\n",
    "\n",
    "x = mycol.insert_one(mydict)\n",
    "\n",
    "print(x.inserted_id)"
   ]
  },
  {
   "cell_type": "code",
   "execution_count": 31,
   "metadata": {},
   "outputs": [
    {
     "name": "stdout",
     "output_type": "stream",
     "text": [
      "<slot wrapper '__str__' of 'object' objects>\n",
      "True\n",
      "[{'_id': ObjectId('639082c1d4a29724d066eb71'), 'name': 'john', 'age': 36}, {'_id': ObjectId('6390869ed4a29724d066eb75'), 'name': 'john', 'age': 36}, {'_id': ObjectId('63909adb5384327ed7b675a4'), 'name': 'john', 'age': 36}]\n",
      "{'_id': ObjectId('639082c1d4a29724d066eb71'), 'name': 'john', 'age': 36}\n"
     ]
    }
   ],
   "source": [
    "# check mongo repository pattern\n",
    "\n",
    "from abc import abstractmethod, abstractproperty\n",
    "from typing import Generic, TypeVar\n",
    "from collections import namedtuple\n",
    "\n",
    "\n",
    "class User:\n",
    "    id: str\n",
    "    name: str\n",
    "\n",
    "class Customer:\n",
    "    id: str\n",
    "    name: str\n",
    "\n",
    "T = TypeVar('T',bound=Customer)\n",
    "C = TypeVar('C')\n",
    "\n",
    "class dotdict(dict):\n",
    "    \"\"\"dot.notation access to dictionary attributes\"\"\"\n",
    "    __getattr__ = dict.get\n",
    "    __setattr__ = dict.__setitem__\n",
    "    __delattr__ = dict.__delitem__\n",
    "\n",
    "\n",
    "class MongoRepository(Generic[T]):\n",
    "\n",
    "    def __init__(self,collection_name) -> None:\n",
    "        self.client = pymongo.MongoClient('mongodb://localhost:27017')\n",
    "        self.database = self.client[db]\n",
    "        self.collection = self.database[collection_name]\n",
    "        super().__init__()\n",
    "\n",
    "    @abstractmethod\n",
    "    def find(self) -> list[T]:\n",
    "        return list(map(lambda x: dotdict(x), self.collection.find()))\n",
    "\n",
    "    @abstractmethod\n",
    "    def find_one(self) -> T:\n",
    "        return dotdict(self.collection.find_one())\n",
    "\n",
    "\n",
    "class CustomerRepository(MongoRepository[Customer]):\n",
    "        def __init__(self) -> None:\n",
    "             super().__init__('customers')\n",
    "\n",
    "\n",
    "customers = CustomerRepository()\n",
    "\n",
    "\n",
    "findAll = customers.find()\n",
    "findOne = customers.find_one()\n",
    "\n",
    "\n",
    "print(findAll)\n",
    "print(findOne)"
   ]
  }
 ],
 "metadata": {
  "kernelspec": {
   "display_name": "Python 3.9.13 ('.venv': pipenv)",
   "language": "python",
   "name": "python3"
  },
  "language_info": {
   "codemirror_mode": {
    "name": "ipython",
    "version": 3
   },
   "file_extension": ".py",
   "mimetype": "text/x-python",
   "name": "python",
   "nbconvert_exporter": "python",
   "pygments_lexer": "ipython3",
   "version": "3.9.13"
  },
  "orig_nbformat": 4,
  "vscode": {
   "interpreter": {
    "hash": "5f08430acb27c203c0d61100ff15833c74282a2f1946fa4367953b0f936b9c5e"
   }
  }
 },
 "nbformat": 4,
 "nbformat_minor": 2
}
