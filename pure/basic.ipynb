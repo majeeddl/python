{
 "cells": [
  {
   "cell_type": "code",
   "execution_count": 6,
   "id": "7b4477cc-cc1e-46a6-94f5-daa264ccb611",
   "metadata": {},
   "outputs": [],
   "source": [
    "#import dependencies\n",
    "import unittest"
   ]
  },
  {
   "cell_type": "code",
   "execution_count": 5,
   "id": "91cb7e75-9e18-42cf-8e45-32c639ddc7dc",
   "metadata": {},
   "outputs": [
    {
     "name": "stdout",
     "output_type": "stream",
     "text": [
      "5\n",
      "John\n"
     ]
    }
   ],
   "source": [
    "#variables\n",
    "x = 5\n",
    "y = \"John\"\n",
    "print(x)\n",
    "print(y)"
   ]
  },
  {
   "cell_type": "code",
   "execution_count": null,
   "id": "d9f19006-87b0-485c-99c8-960c084be1e1",
   "metadata": {},
   "outputs": [],
   "source": [
    "#cating"
   ]
  },
  {
   "cell_type": "code",
   "execution_count": null,
   "id": "a808ce47-9660-4b39-9141-8dd71c40c9a3",
   "metadata": {},
   "outputs": [],
   "source": []
  }
 ],
 "metadata": {
  "kernelspec": {
   "display_name": "Python 3 (ipykernel)",
   "language": "python",
   "name": "python3"
  },
  "language_info": {
   "codemirror_mode": {
    "name": "ipython",
    "version": 3
   },
   "file_extension": ".py",
   "mimetype": "text/x-python",
   "name": "python",
   "nbconvert_exporter": "python",
   "pygments_lexer": "ipython3",
   "version": "3.10.1"
  }
 },
 "nbformat": 4,
 "nbformat_minor": 5
}
