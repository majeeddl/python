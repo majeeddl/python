{
 "cells": [
  {
   "cell_type": "code",
   "execution_count": 1,
   "id": "1bd5b8c0-39f8-4233-975e-ef22bfefec68",
   "metadata": {},
   "outputs": [
    {
     "name": "stdout",
     "output_type": "stream",
     "text": [
      "['apple', 'banana', 'cherry']\n"
     ]
    }
   ],
   "source": [
    "#Create A new list\n",
    "myList = [ \"apple\", \"banana\" , \"cherry\"]\n",
    "print(myList)"
   ]
  },
  {
   "cell_type": "code",
   "execution_count": 2,
   "id": "6e81bd22-672e-4aa6-b5d8-10183c1ae486",
   "metadata": {},
   "outputs": [
    {
     "name": "stdout",
     "output_type": "stream",
     "text": [
      "3\n"
     ]
    }
   ],
   "source": [
    "print(len(myList))"
   ]
  },
  {
   "cell_type": "code",
   "execution_count": 3,
   "id": "2a378a6f-e2d0-40dc-9b99-1bf395cc0b69",
   "metadata": {},
   "outputs": [
    {
     "name": "stdout",
     "output_type": "stream",
     "text": [
      "['apple', 'banana', 'cherry']\n"
     ]
    }
   ],
   "source": [
    "# The List() constructor\n",
    "listTwo = list((\"apple\",\"banana\",\"cherry\"))\n",
    "print(listTwo)"
   ]
  },
  {
   "cell_type": "code",
   "execution_count": null,
   "id": "efb5fccb-a514-43f8-a78d-f5d7a30f2b6d",
   "metadata": {},
   "outputs": [],
   "source": []
  }
 ],
 "metadata": {
  "kernelspec": {
   "display_name": "Python 3 (ipykernel)",
   "language": "python",
   "name": "python3"
  },
  "language_info": {
   "codemirror_mode": {
    "name": "ipython",
    "version": 3
   },
   "file_extension": ".py",
   "mimetype": "text/x-python",
   "name": "python",
   "nbconvert_exporter": "python",
   "pygments_lexer": "ipython3",
   "version": "3.10.1"
  }
 },
 "nbformat": 4,
 "nbformat_minor": 5
}
